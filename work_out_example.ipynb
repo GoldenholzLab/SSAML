{
 "cells": [
  {
   "cell_type": "markdown",
   "metadata": {},
   "source": [
    "# Worked out example of using SSAML"
   ]
  },
  {
   "cell_type": "markdown",
   "metadata": {},
   "source": [
    "Step 1. Build a fake file. Use the code below to do this. The file will be called\n",
    "sample_data_FAKE.csv"
   ]
  },
  {
   "cell_type": "code",
   "execution_count": null,
   "metadata": {},
   "outputs": [],
   "source": [
    "import pandas as pd\n",
    "import numpy as np\n",
    "import os\n",
    "np.random.seed(42)\n",
    "\n",
    "# fake datafile\n",
    "fakefile = 'sample_data_FAKE.csv'\n",
    "\n",
    "# First make fake data for binary classification\n",
    "# this is a dataset with three columns:\n",
    "# ID: subject ID\n",
    "# p: the predcited probablily of the positive class\n",
    "# event: the actual class, 0 for negative class, 1 for positive class\n",
    "how_many = 5000\n",
    "X = pd.DataFrame(columns=('ID','p','event'))\n",
    "\n",
    "# fill ID\n",
    "X['ID']= np.array(range(how_many))\n",
    "\n",
    "# fill event\n",
    "isTrue = np.random.randint(low=0,high=2,size=how_many) # random number 0 or 1\n",
    "X['event'] = isTrue\n",
    "\n",
    "# fill p\n",
    "#goodPred = (np.random.random(how_many)<.9)*1.0 # 90% good preds\n",
    "goodPred = np.random.random(how_many)<0.75\n",
    "noise = np.random.random(how_many)*.2 # a little bit of noise\n",
    "noisyTrue = np.abs(isTrue-noise)\n",
    "#prob = noisyTrue*(goodPred==True) + np.random.random(how_many)*(goodPred==False)\n",
    "prob = noisyTrue*(goodPred==1) + np.random.random(how_many)*(goodPred==0)\n",
    "X['p'] = prob\n",
    "\n",
    "# save to a csv\n",
    "X.to_csv(fakefile, index=False,float_format='%0.3f')"
   ]
  },
  {
   "cell_type": "markdown",
   "metadata": {},
   "source": [
    "STEP 2: Now you will need to run the code from runner_power.\n",
    "Make sure that the section \"THIS IS THE SET_BY_USER section\" has the proper\n",
    "path for the input file created above, (called \"infile\") and the proper\n",
    "output folder path (called outdir).\n",
    "After you make sure to give runner_power.sh execution permissions, you can run\n",
    "./runner_power.sh 1 0\n",
    "On a Mac 21\" 2017 quad core OS X 12.01 with 16Gb of RAM, this took 11 minutes to run.\n"
   ]
  },
  {
   "cell_type": "markdown",
   "metadata": {},
   "source": [
    "STEP 3: Consolidate the data\n",
    "./runner_power.sh 2 0\n",
    "On the same setup as above, that step took 1 minute.\n"
   ]
  },
  {
   "cell_type": "markdown",
   "metadata": {},
   "source": [
    "STEP 4: review the output\n",
    "\n",
    "The key part of the output will look like this:"
   ]
  },
  {
   "cell_type": "code",
   "execution_count": null,
   "metadata": {},
   "outputs": [],
   "source": [
    "\"\"\"\n",
    "RWD goal < 0.5, BIAS goal < 5%, COVP > 95%\n",
    "howmany       100.0     500.0     1000.0\n",
    "confint     0.999999  0.999999  0.999999\n",
    "RWD slope   1.575000  0.872000  0.614000\n",
    "RWD AUC     0.273000  0.126000  0.089000\n",
    "RWD CIL     0.625000  0.279000  0.192000\n",
    "BIAS slope -0.066000  0.008000  0.017000\n",
    "BIAS AUC    0.000000 -0.001000  0.000000\n",
    "BIAS CIL   -0.008000 -0.010000 -0.003000\n",
    "COVP slope  1.000000  1.000000  1.000000\n",
    "COVP AUC    1.000000  1.000000  1.000000\n",
    "COVP CIL    1.000000  1.000000  1.000000\n",
    "RWD goal < 0.5, BIAS goal < 5%, COVP > 95%\n",
    "howmany     100.0   500.0   1000.0\n",
    "confint      0.955   0.955   0.955\n",
    "RWD slope    0.667   0.382   0.252\n",
    "RWD AUC      0.115   0.053   0.036\n",
    "RWD CIL      0.263   0.111   0.078\n",
    "BIAS slope  -0.006   0.010   0.009\n",
    "BIAS AUC     0.000   0.002   0.000\n",
    "BIAS CIL    -0.007   0.003   0.001\n",
    "COVP slope   0.850   0.970   1.000\n",
    "COVP AUC     0.910   0.970   0.950\n",
    "COVP CIL     0.920   0.950   0.930\n",
    "The frankenstein is...\n",
    "                100    500       1000\n",
    "confint     0.999999  0.955  0.999999\n",
    "RWD slope   1.575000  0.382  0.614000\n",
    "RWD AUC     0.273000  0.053  0.089000\n",
    "RWD CIL     0.625000  0.111  0.192000\n",
    "BIAS slope -0.066000  0.010  0.017000\n",
    "BIAS AUC    0.000000  0.002  0.000000\n",
    "BIAS CIL   -0.008000  0.003 -0.003000\n",
    "COVP slope  1.000000  0.970  1.000000\n",
    "COVP AUC    1.000000  0.970  1.000000\n",
    "COVP CIL    1.000000  0.950  1.000000\n",
    "\"\"\""
   ]
  },
  {
   "cell_type": "markdown",
   "metadata": {},
   "source": [
    "The columnn with numbers (i.e. no NaN values) represents the lowest sample size selected by SSAML.\n",
    "\n",
    "\n",
    "As a result, you will look at the \"frankenstien\" and note that 500 is a sufficient sample\n",
    "size for your needs, because it satisfies all the criteria, whereas 100 is insufficient."
   ]
  },
  {
   "cell_type": "markdown",
   "metadata": {},
   "source": [
    "STEP 5: plotting (this step is optional and runs in a few seconds)\n",
    "\n",
    "After you rrun runner_power with your modified parameters, you will get output files.\n",
    "if you had enabled \"doEXTRA=True\" in power.py, then you can plot the zing files as\n",
    "as follows or from modifying the make-power-pix.py"
   ]
  },
  {
   "cell_type": "code",
   "execution_count": 5,
   "metadata": {},
   "outputs": [
    {
     "name": "stdout",
     "output_type": "stream",
     "text": [
      "Loading smallZ...\n",
      "plotting...\n"
     ]
    },
    {
     "data": {
      "image/png": "[encoded data removed]",
      "text/plain": [
       "<Figure size 640x480 with 3 Axes>"
      ]
     },
     "metadata": {},
     "output_type": "display_data"
    }
   ],
   "source": [
    "import matplotlib\n",
    "\n",
    "#matplotlib.use(\"Agg\")\n",
    "import matplotlib.pyplot as plt\n",
    "import seaborn as sns\n",
    "import pandas as pd\n",
    "import numpy as np\n",
    "from scipy import stats\n",
    "import os\n",
    "import sys\n",
    "import time\n",
    "\n",
    "# CONSTANTS\n",
    "# put whatever your local directory is that has your files from SSAML\n",
    "mydir = '/Users/danisized/Documents/GitHub/SSAML/OUTcovaFAKE/'\n",
    "# Note, the numLIST numbers here are hard coded for the number of patients/events we tested. \n",
    "# change to whatever you like here\n",
    "numLIST = [100,500,1000]\n",
    "\n",
    "# FUNCTION DEFINITIONS\n",
    "def getZING(prefixN,middleOne,numLIST):\n",
    "  # load up the ZING files and compose a pandas dataframe from it\n",
    "  print('Loading %s...' % prefixN)\n",
    "  \n",
    "  for howmany in numLIST:\n",
    "    fn = prefixN + str(howmany).zfill(4) + '.csv'\n",
    "    dat = pd.read_csv(fn,sep=',',header=None)\n",
    "    dat.columns =['Slope',middleOne,'CIL']\n",
    "    dat['N'] = dat.Slope*0 + howmany\n",
    "    if howmany == numLIST[0]:\n",
    "      bigD = dat\n",
    "    else:\n",
    "      bigD = bigD.append(dat,ignore_index=True)\n",
    "  return bigD\n",
    "\n",
    "def plotZING(prefixN,numLIST):\n",
    "    # the ZING files allow the detailed boxplots or violin plots to be displayed\n",
    "\n",
    "    useme = 'AUC'\n",
    "\n",
    "    # fill a pandas dataframe with slope, c-index/auc and cil\n",
    "    for howmany in numLIST:\n",
    "        fn = prefixN + str(howmany).zfill(4) + '.csv'\n",
    "        dat = pd.read_csv(fn,sep=',',header=None)\n",
    "        dat.columns =['Slope',useme,'CIL']\n",
    "        dat['N'] = dat.Slope*0 + howmany\n",
    "        if howmany == numLIST[0]:\n",
    "            bigD = dat\n",
    "        else:\n",
    "            bigD = bigD.append(dat,ignore_index=True)\n",
    "\n",
    "    # draw a boxplot for each of the 3 metrics, save as a file with 300 dpi\n",
    "    fig, (ax1, ax2, ax3) = plt.subplots(3,1)\n",
    "    plt.subplot(3,1,1)\n",
    "    ax1 = sns.boxplot(x=\"N\", y=\"Slope\", data=bigD,showfliers=False)\n",
    "    plt.subplot(3,1,2)\n",
    "    ax2 = sns.boxplot(x=\"N\", y=useme, data=bigD,showfliers=False)\n",
    "    plt.subplot(3,1,3)\n",
    "    ax3 = sns.boxplot(x=\"N\", y=\"CIL\",data=bigD,showfliers=False)\n",
    "\n",
    "    return\n",
    "\n",
    "\n",
    "# MAIN\n",
    "os.chdir(mydir)\n",
    "\n",
    "bigD = getZING('smallZ','C-index',numLIST)\n",
    "print('plotting...')\n",
    "\n",
    "plotZING('smallZ',numLIST)\n",
    "plt.show()"
   ]
  }
 ],
 "metadata": {
  "interpreter": {
   "hash": "a404aa89708676c7791b60ae831968fae79ae3ff06d34bbb08a853a6451b071c"
  },
  "kernelspec": {
   "display_name": "Python 3",
   "language": "python",
   "name": "python3"
  },
  "language_info": {
   "codemirror_mode": {
    "name": "ipython",
    "version": 3
   },
   "file_extension": ".py",
   "mimetype": "text/x-python",
   "name": "python",
   "nbconvert_exporter": "python",
   "pygments_lexer": "ipython3",
   "version": "3.6.9"
  }
 },
 "nbformat": 4,
 "nbformat_minor": 2
}
