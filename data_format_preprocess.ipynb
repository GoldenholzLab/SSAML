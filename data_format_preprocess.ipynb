{
 "cells": [
  {
   "cell_type": "code",
   "execution_count": 4,
   "id": "8142fc00",
   "metadata": {},
   "outputs": [],
   "source": [
    "import pandas as pd\n",
    "import numpy as np\n",
    "import os\n",
    "np.random.seed(42)"
   ]
  },
  {
   "cell_type": "markdown",
   "id": "728cee83",
   "metadata": {},
   "source": [
    "### A) Expected data format for SSAML code.  \n",
    "Make sure you have a .csv file with the following columns and row formats. The format differs for non-survival-analysis and survival-analysis tasks. Within runner_power.sh you will find a boolean parameter survivalTF to be set (True for survival analysis, False for non-survival analysis), and a boolean parameter peopleTF (True for patient-level analysis and False for event-level analysis). This notebook is therefore a preprocessing guide/tutorial to re-format existing data to make it ready for SSAML algorithm and the runner_power.sh code. The analysis method is not determined here but with the aforementioned parameters in runner_power.sh.\n",
    "\n",
    "1. 'regular', non-survival analysis model.  \n",
    "    columns:  \n",
    "    -- ID: unique patient identifier (integers)  \n",
    "    -- event: ground truth / label (integers)  \n",
    "    -- p: model output, event probability  \n",
    "\n",
    "   rows are data observations (i.e. one row per event/patient)\n",
    "   \n",
    "2. survival analysis model.  \n",
    "    columns:   \n",
    "    -- ID: unique patient identifier (integers)  \n",
    "    -- C: censhorhip information (i.e. 1 for censored, 0 for not censored)  \n",
    "    -- z is the z-score value, a covariate for Cox proportional hazard.\n",
    "    -- T: time to event  \n",
    "\n",
    "   rows are data observations (i.e. one row per event/patient)"
   ]
  },
  {
   "cell_type": "markdown",
   "id": "a252b149",
   "metadata": {},
   "source": [
    "### B) sample datasets, as presented in the paper\n",
    "\n",
    "here, we present the format for three distinct tasks, as presented in the paper."
   ]
  },
  {
   "cell_type": "markdown",
   "id": "81afb36e",
   "metadata": {},
   "source": [
    "#### B.1) seizure risk prediction ('seizure tracker (ST) data')"
   ]
  },
  {
   "cell_type": "code",
   "execution_count": 2,
   "id": "5b169020",
   "metadata": {},
   "outputs": [],
   "source": [
    "# c = pd.read_csv(big_file,sep=',',names=['ID','szTF','AI','RMR'])\n",
    "# uids = pd.unique(c.ID)\n",
    "# c.rename(columns={'szTF':'event'},inplace=True)\n",
    "# c.rename(columns={'AI':'p'},inplace=True)\n",
    "# peopleTF=True\n",
    "# survivalTF=False"
   ]
  },
  {
   "cell_type": "code",
   "execution_count": 3,
   "id": "a5198c9b",
   "metadata": {},
   "outputs": [],
   "source": [
    "data = pd.DataFrame(columns=['ID', 'event', 'p'])\n",
    "data['ID'] = np.arange(100)\n",
    "data['event'] = np.random.randint(0, high=2, size=data.shape[0]) # binary outcome, high excluded\n",
    "data['p'] = np.random.rand(data.shape[0]) # model output, probability values between 0 and 1"
   ]
  },
  {
   "cell_type": "code",
   "execution_count": 4,
   "id": "e8e71431",
   "metadata": {},
   "outputs": [
    {
     "name": "stdout",
     "output_type": "stream",
     "text": [
      "data shape: (100, 3)\n",
      "events contained: \n",
      "1    56\n",
      "0    44\n",
      "Name: event, dtype: int64\n"
     ]
    },
    {
     "data": {
      "text/html": [
       "<div>\n",
       "<style scoped>\n",
       "    .dataframe tbody tr th:only-of-type {\n",
       "        vertical-align: middle;\n",
       "    }\n",
       "\n",
       "    .dataframe tbody tr th {\n",
       "        vertical-align: top;\n",
       "    }\n",
       "\n",
       "    .dataframe thead th {\n",
       "        text-align: right;\n",
       "    }\n",
       "</style>\n",
       "<table border=\"1\" class=\"dataframe\">\n",
       "  <thead>\n",
       "    <tr style=\"text-align: right;\">\n",
       "      <th></th>\n",
       "      <th>ID</th>\n",
       "      <th>event</th>\n",
       "      <th>p</th>\n",
       "    </tr>\n",
       "  </thead>\n",
       "  <tbody>\n",
       "    <tr>\n",
       "      <th>0</th>\n",
       "      <td>0</td>\n",
       "      <td>0</td>\n",
       "      <td>0.969585</td>\n",
       "    </tr>\n",
       "    <tr>\n",
       "      <th>1</th>\n",
       "      <td>1</td>\n",
       "      <td>1</td>\n",
       "      <td>0.775133</td>\n",
       "    </tr>\n",
       "    <tr>\n",
       "      <th>2</th>\n",
       "      <td>2</td>\n",
       "      <td>0</td>\n",
       "      <td>0.939499</td>\n",
       "    </tr>\n",
       "    <tr>\n",
       "      <th>3</th>\n",
       "      <td>3</td>\n",
       "      <td>0</td>\n",
       "      <td>0.894827</td>\n",
       "    </tr>\n",
       "    <tr>\n",
       "      <th>4</th>\n",
       "      <td>4</td>\n",
       "      <td>0</td>\n",
       "      <td>0.597900</td>\n",
       "    </tr>\n",
       "  </tbody>\n",
       "</table>\n",
       "</div>"
      ],
      "text/plain": [
       "   ID  event         p\n",
       "0   0      0  0.969585\n",
       "1   1      1  0.775133\n",
       "2   2      0  0.939499\n",
       "3   3      0  0.894827\n",
       "4   4      0  0.597900"
      ]
     },
     "execution_count": 4,
     "metadata": {},
     "output_type": "execute_result"
    }
   ],
   "source": [
    "print(f'data shape: {data.shape}')\n",
    "print(f'events contained: \\n{data.event.value_counts()}')\n",
    "data.head()"
   ]
  },
  {
   "cell_type": "code",
   "execution_count": 5,
   "id": "b0a471bd",
   "metadata": {},
   "outputs": [],
   "source": [
    "data.to_csv('sample_data_st.csv', index=False)"
   ]
  },
  {
   "cell_type": "markdown",
   "id": "469ec9b5",
   "metadata": {},
   "source": [
    "#### B.2) covid hospitalization risk prediciton ('COVA dataset')"
   ]
  },
  {
   "cell_type": "code",
   "execution_count": 6,
   "id": "94b893c5",
   "metadata": {},
   "outputs": [],
   "source": [
    "data['ID'] = np.arange(100)\n",
    "data['event'] = np.random.randint(0, high=2, size=data.shape[0]) # binary outcome, high excluded\n",
    "data['p'] = np.random.rand(data.shape[0]) # model output, probability values between 0 and 1"
   ]
  },
  {
   "cell_type": "code",
   "execution_count": 22,
   "id": "636b1b46",
   "metadata": {},
   "outputs": [],
   "source": [
    "\n",
    "data_raw = pd.read_csv('COVA-FAKE.csv', sep=',')\n",
    "data = pd.DataFrame()\n",
    "data['ID'] = np.array(range(data_raw.shape[0]))\n",
    "event_categories = ['Prob-dead','Prob-ICU-MV','Prob-Hosp']\n",
    "data['p'] = (data_raw[event_categories[0]] + data_raw[event_categories[1]] + data_raw[event_categories[2]])/100\n",
    "data['event'] = 0.0 + (data_raw['actual']>0)"
   ]
  },
  {
   "cell_type": "code",
   "execution_count": 23,
   "id": "1b597dad",
   "metadata": {},
   "outputs": [
    {
     "name": "stdout",
     "output_type": "stream",
     "text": [
      "data shape: (5000, 3)\n",
      "events contained: \n",
      "0.0    3131\n",
      "1.0    1869\n",
      "Name: event, dtype: int64\n"
     ]
    },
    {
     "data": {
      "text/html": [
       "<div>\n",
       "<style scoped>\n",
       "    .dataframe tbody tr th:only-of-type {\n",
       "        vertical-align: middle;\n",
       "    }\n",
       "\n",
       "    .dataframe tbody tr th {\n",
       "        vertical-align: top;\n",
       "    }\n",
       "\n",
       "    .dataframe thead th {\n",
       "        text-align: right;\n",
       "    }\n",
       "</style>\n",
       "<table border=\"1\" class=\"dataframe\">\n",
       "  <thead>\n",
       "    <tr style=\"text-align: right;\">\n",
       "      <th></th>\n",
       "      <th>ID</th>\n",
       "      <th>p</th>\n",
       "      <th>event</th>\n",
       "    </tr>\n",
       "  </thead>\n",
       "  <tbody>\n",
       "    <tr>\n",
       "      <th>0</th>\n",
       "      <td>0</td>\n",
       "      <td>0.09342</td>\n",
       "      <td>0.0</td>\n",
       "    </tr>\n",
       "    <tr>\n",
       "      <th>1</th>\n",
       "      <td>1</td>\n",
       "      <td>0.93350</td>\n",
       "      <td>1.0</td>\n",
       "    </tr>\n",
       "    <tr>\n",
       "      <th>2</th>\n",
       "      <td>2</td>\n",
       "      <td>0.85244</td>\n",
       "      <td>0.0</td>\n",
       "    </tr>\n",
       "    <tr>\n",
       "      <th>3</th>\n",
       "      <td>3</td>\n",
       "      <td>0.97550</td>\n",
       "      <td>0.0</td>\n",
       "    </tr>\n",
       "    <tr>\n",
       "      <th>4</th>\n",
       "      <td>4</td>\n",
       "      <td>0.84995</td>\n",
       "      <td>1.0</td>\n",
       "    </tr>\n",
       "  </tbody>\n",
       "</table>\n",
       "</div>"
      ],
      "text/plain": [
       "   ID        p  event\n",
       "0   0  0.09342    0.0\n",
       "1   1  0.93350    1.0\n",
       "2   2  0.85244    0.0\n",
       "3   3  0.97550    0.0\n",
       "4   4  0.84995    1.0"
      ]
     },
     "execution_count": 23,
     "metadata": {},
     "output_type": "execute_result"
    }
   ],
   "source": [
    "print(f'data shape: {data.shape}')\n",
    "print(f'events contained: \\n{data.event.value_counts()}')\n",
    "data.head()"
   ]
  },
  {
   "cell_type": "code",
   "execution_count": 24,
   "id": "9775f1a3",
   "metadata": {},
   "outputs": [],
   "source": [
    "data.to_csv('sample_data_cova.csv', index=False)"
   ]
  },
  {
   "cell_type": "markdown",
   "id": "37af3c39",
   "metadata": {},
   "source": [
    "#### B.3) Brain age - mortality risk prediction (survival analysis)"
   ]
  },
  {
   "cell_type": "markdown",
   "id": "7fdf922b",
   "metadata": {},
   "source": [
    "This database file has the following columns: 'z','T','C', reflecting a z score (output of ML), T=time, and C=censored yes=1, no=0\n",
    "The ID numbers were not supplied, so row number can be used to produce a sequential ID number here in preprocessing."
   ]
  },
  {
   "cell_type": "code",
   "execution_count": 10,
   "id": "2f879eb5",
   "metadata": {},
   "outputs": [],
   "source": [
    "# c = pd.read_csv(big_file,sep=',')\n",
    "# uids =  uids = np.array(range(c.shape[0]))\n",
    "# c['ID'] = uids\n",
    "# peopleTF=True\n",
    "# survivalTF=True"
   ]
  },
  {
   "cell_type": "code",
   "execution_count": 19,
   "id": "326086f8",
   "metadata": {},
   "outputs": [],
   "source": [
    "data = pd.DataFrame(columns=['ID','z', 'T', 'C'])\n",
    "data['ID'] = np.arange(100)\n",
    "data['T'] = np.random.randint(0, high=21, size=data.shape[0]) # random integer values for time to event\n",
    "data['C'] = np.random.randint(0, 2, size=data.shape[0]) # random binary censorship information Yes/No\n",
    "data['z'] = np.random.normal(loc=0, scale=1, size=data.shape[0]) # random z-scored confounding variable.\n"
   ]
  },
  {
   "cell_type": "code",
   "execution_count": 12,
   "id": "eda024a2",
   "metadata": {},
   "outputs": [
    {
     "name": "stdout",
     "output_type": "stream",
     "text": [
      "data shape: (100, 4)\n",
      "events contained: \n",
      "0    59\n",
      "1    41\n",
      "Name: C, dtype: int64\n"
     ]
    },
    {
     "data": {
      "text/html": [
       "<div>\n",
       "<style scoped>\n",
       "    .dataframe tbody tr th:only-of-type {\n",
       "        vertical-align: middle;\n",
       "    }\n",
       "\n",
       "    .dataframe tbody tr th {\n",
       "        vertical-align: top;\n",
       "    }\n",
       "\n",
       "    .dataframe thead th {\n",
       "        text-align: right;\n",
       "    }\n",
       "</style>\n",
       "<table border=\"1\" class=\"dataframe\">\n",
       "  <thead>\n",
       "    <tr style=\"text-align: right;\">\n",
       "      <th></th>\n",
       "      <th>ID</th>\n",
       "      <th>T</th>\n",
       "      <th>C</th>\n",
       "      <th>z</th>\n",
       "    </tr>\n",
       "  </thead>\n",
       "  <tbody>\n",
       "    <tr>\n",
       "      <th>0</th>\n",
       "      <td>0</td>\n",
       "      <td>12</td>\n",
       "      <td>0</td>\n",
       "      <td>0.055572</td>\n",
       "    </tr>\n",
       "    <tr>\n",
       "      <th>1</th>\n",
       "      <td>1</td>\n",
       "      <td>19</td>\n",
       "      <td>0</td>\n",
       "      <td>0.060233</td>\n",
       "    </tr>\n",
       "    <tr>\n",
       "      <th>2</th>\n",
       "      <td>2</td>\n",
       "      <td>14</td>\n",
       "      <td>1</td>\n",
       "      <td>-1.439462</td>\n",
       "    </tr>\n",
       "    <tr>\n",
       "      <th>3</th>\n",
       "      <td>3</td>\n",
       "      <td>2</td>\n",
       "      <td>1</td>\n",
       "      <td>-0.383488</td>\n",
       "    </tr>\n",
       "    <tr>\n",
       "      <th>4</th>\n",
       "      <td>4</td>\n",
       "      <td>7</td>\n",
       "      <td>0</td>\n",
       "      <td>0.886202</td>\n",
       "    </tr>\n",
       "  </tbody>\n",
       "</table>\n",
       "</div>"
      ],
      "text/plain": [
       "   ID   T  C         z\n",
       "0   0  12  0  0.055572\n",
       "1   1  19  0  0.060233\n",
       "2   2  14  1 -1.439462\n",
       "3   3   2  1 -0.383488\n",
       "4   4   7  0  0.886202"
      ]
     },
     "execution_count": 12,
     "metadata": {},
     "output_type": "execute_result"
    }
   ],
   "source": [
    "print(f'data shape: {data.shape}')\n",
    "print(f'events contained: \\n{data.C.value_counts()}')\n",
    "data.head()"
   ]
  },
  {
   "cell_type": "code",
   "execution_count": 13,
   "id": "3d617620",
   "metadata": {},
   "outputs": [],
   "source": [
    "data.to_csv('sample_data_bai_mortality.csv', index=False)"
   ]
  },
  {
   "cell_type": "code",
   "execution_count": 42,
   "id": "40daf95b",
   "metadata": {},
   "outputs": [
    {
     "name": "stdout",
     "output_type": "stream",
     "text": [
      "Loading smallZ...\n",
      "       Slope  C-index    CIL       N\n",
      "0        0.0    0.514  2.965   100.0\n",
      "1        0.0    0.496  2.808   100.0\n",
      "2        0.0    0.562  2.576   100.0\n",
      "3        0.0    0.430  2.581   100.0\n",
      "4        0.0    0.539  2.803   100.0\n",
      "...      ...      ...    ...     ...\n",
      "29995    0.0    0.480  2.592  1000.0\n",
      "29996    0.0    0.484  2.830  1000.0\n",
      "29997    0.0    0.452  2.778  1000.0\n",
      "29998    0.0    0.490  2.729  1000.0\n",
      "29999    0.0    0.472  2.633  1000.0\n",
      "\n",
      "[30000 rows x 4 columns]\n",
      "plotting...\n"
     ]
    },
    {
     "data": {
      "image/png": "[encoded data removed]",
      "text/plain": [
       "<Figure size 800x800 with 6 Axes>"
      ]
     },
     "metadata": {},
     "output_type": "display_data"
    },
    {
     "name": "stdout",
     "output_type": "stream",
     "text": [
      "saving...\n"
     ]
    }
   ],
   "source": [
    "## After you rrun runner_power with your modified parameters, you will get output files.\n",
    "## if you had enabled \"doEXTRA=True\" in power.py, then you can plot the zing files as\n",
    "## as follows or from modifying the make-power-pix.py\n",
    "\n",
    "import matplotlib\n",
    "\n",
    "#matplotlib.use(\"Agg\")\n",
    "import matplotlib.pyplot as plt\n",
    "import seaborn as sns\n",
    "import pandas as pd\n",
    "import numpy as np\n",
    "from scipy import stats\n",
    "import os\n",
    "import sys\n",
    "import time\n",
    "\n",
    "# CONSTANTS\n",
    "# put whatever your local directory is that has your files from SSAML\n",
    "mydir = '/Users/danisized/Documents/GitHub/SSAML/OUTcovaFAKE/'\n",
    "# Note, the numLIST numbers here are hard coded for the number of patients/events we tested. \n",
    "# change to whatever you like here\n",
    "numLIST = [100,500,1000]\n",
    "\n",
    "# FUNCTION DEFINITIONS\n",
    "def getZING(prefixN,middleOne,numLIST):\n",
    "  # load up the ZING files and compose a pandas dataframe from it\n",
    "  print('Loading %s...' % prefixN)\n",
    "  \n",
    "  for howmany in numLIST:\n",
    "    fn = prefixN + str(howmany).zfill(4) + '.csv'\n",
    "    dat = pd.read_csv(fn,sep=',',header=None)\n",
    "    dat.columns =['Slope',middleOne,'CIL']\n",
    "    dat['N'] = dat.Slope*0 + howmany\n",
    "    if howmany == numLIST[0]:\n",
    "      bigD = dat\n",
    "    else:\n",
    "      bigD = bigD.append(dat,ignore_index=True)\n",
    "  return bigD\n",
    "\n",
    "def plotC(dat,numLIST,fig,ax,tName):\n",
    "  #plot the column number colNum\n",
    "  C=(.7,.7,.7)\n",
    "  colNum=1\n",
    "  plt.subplot(3,3,colNum)\n",
    "  ax[0,colNum-1] = sns.boxplot(x=\"N\", y=\"Slope\",fliersize=0,color=C, data=dat)\n",
    "  plt.grid(True,axis='y')\n",
    "  plt.ylim(0,2.1)\n",
    "  plt.xlabel('')\n",
    "  plt.title(tName)\n",
    "\n",
    "  plt.subplot(3,3,3+colNum)\n",
    "  ax[1,colNum-1] = sns.boxplot(x=\"N\", y=\"C-index\",fliersize=0,color=C, data=dat)\n",
    "  plt.grid(True,axis='y')\n",
    "  plt.ylim(0,1.1)\n",
    "  plt.xlabel('')\n",
    "\n",
    "  plt.subplot(3,3,6+colNum)\n",
    "  ax[2,colNum-1] = sns.boxplot(x=\"N\", y=\"CIL\",fliersize=0,color=C,data=dat)\n",
    "  plt.grid(True,axis='y')\n",
    "  plt.ylim(0,1.5)\n",
    "\n",
    "  ax[0,colNum-1].axes.xaxis.set_ticklabels([])\n",
    "  ax[1,colNum-1].axes.xaxis.set_ticklabels([])\n",
    "  ax[2,colNum-1].axes.xaxis.set_ticklabels(numLIST)\n",
    "  if colNum>1:\n",
    "    ax[0,colNum-1].axes.yaxis.set_ticklabels([])   \n",
    "    ax[1,colNum-1].axes.yaxis.set_ticklabels([])   \n",
    "    ax[2,colNum-1].axes.yaxis.set_ticklabels([])   \n",
    "    ax[0,colNum-1].set_ylabel('')\n",
    "    ax[1,colNum-1].set_ylabel('')\n",
    "    ax[2,colNum-1].set_ylabel('')\n",
    "\n",
    "  return\n",
    "\n",
    "\n",
    "# MAIN\n",
    "os.chdir(mydir)\n",
    "\n",
    "bigD = getZING('smallZ','C-index',numLIST)\n",
    "print(bigD)\n",
    "\n",
    "\n",
    "print('plotting...')\n",
    "fig, ax = plt.subplots(3,2,sharex='col',sharey='row',figsize=(8,8))\n",
    "\n",
    "plotC(bigD,numLIST,fig,ax,'BAI')\n",
    "# make a little extra space between the subplots\n",
    "fig.subplots_adjust(hspace=0.2)\n",
    "plt.show()\n",
    "print('saving...')\n",
    "# jpeg in 300 dpi\n",
    "fig.savefig('ZplotFull-v2.jpg',dpi=300)\n",
    "\n"
   ]
  }
 ],
 "metadata": {
  "interpreter": {
   "hash": "a404aa89708676c7791b60ae831968fae79ae3ff06d34bbb08a853a6451b071c"
  },
  "kernelspec": {
   "display_name": "analysis",
   "language": "python",
   "name": "python3"
  },
  "language_info": {
   "codemirror_mode": {
    "name": "ipython",
    "version": 3
   },
   "file_extension": ".py",
   "mimetype": "text/x-python",
   "name": "python",
   "nbconvert_exporter": "python",
   "pygments_lexer": "ipython3",
   "version": "3.7.10"
  }
 },
 "nbformat": 4,
 "nbformat_minor": 5
}
