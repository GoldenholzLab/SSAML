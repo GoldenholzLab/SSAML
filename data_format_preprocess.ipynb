{
 "cells": [
  {
   "cell_type": "code",
   "execution_count": 1,
   "id": "familiar-madonna",
   "metadata": {},
   "outputs": [],
   "source": [
    "import pandas as pd\n",
    "import numpy as np\n",
    "np.random.seed(42)"
   ]
  },
  {
   "cell_type": "markdown",
   "id": "compound-handle",
   "metadata": {},
   "source": [
    "### A) Expected data format for SSAML code.  \n",
    "Make sure you have a .csv file with the following columns and row formats. The format differs for non-survival-analysis and survival-analysis tasks. Within runner_power.sh you will find a boolean parameter survivalTF to be set (True for survival analysis, False for non-survival analysis), and a boolean parameter peopleTF (True for patient-level analysis and False for event-level analysis). This notebook is therefore a preprocessing guide/tutorial to re-format existing data to make it ready for SSAML algorithm and the runner_power.sh code. The analysis method is not determined here but with the aforementioned parameters in runner_power.sh.\n",
    "\n",
    "1. 'regular', non-survival analysis model.  \n",
    "    columns:  \n",
    "    -- ID: unique patient identifier (integers)  \n",
    "    -- event: ground truth / label (integers)  \n",
    "    -- p: model output, event probability  \n",
    "\n",
    "   rows are data observations (i.e. one row per event/patient)\n",
    "   \n",
    "2. survival analysis model.  \n",
    "    columns:   \n",
    "    -- ID: unique patient identifier (integers)  @ Daniel correct: or does this somehow have the censorship data? I'm not clear yet where the censorship data is contained.  \n",
    "    -- C: censhorhip information (i.e. 1 for censored, 0 for not censored)  \n",
    "    -- z is the z-score value, a covariate for Cox proportional hazard.\n",
    "    -- T: time to event  \n",
    "\n",
    "   rows are data observations (i.e. one row per event/patient)"
   ]
  },
  {
   "cell_type": "markdown",
   "id": "liquid-spank",
   "metadata": {},
   "source": [
    "### B) sample datasets, as presented in the paper\n",
    "\n",
    "here, we present the format for three distinct tasks, as presented in the paper."
   ]
  },
  {
   "cell_type": "markdown",
   "id": "romance-round",
   "metadata": {},
   "source": [
    "#### B.1) seizure risk prediction ('seizure tracker (ST) data')"
   ]
  },
  {
   "cell_type": "markdown",
   "id": "wound-gospel",
   "metadata": {},
   "source": [
    "# @ Daniel: I don't have those files, double check if expected format is correct."
   ]
  },
  {
   "cell_type": "code",
   "execution_count": 2,
   "id": "rapid-breach",
   "metadata": {},
   "outputs": [],
   "source": [
    "# c = pd.read_csv(big_file,sep=',',names=['ID','szTF','AI','RMR'])\n",
    "# uids = pd.unique(c.ID)\n",
    "# c.rename(columns={'szTF':'event'},inplace=True)\n",
    "# c.rename(columns={'AI':'p'},inplace=True)\n",
    "# peopleTF=True\n",
    "# survivalTF=False"
   ]
  },
  {
   "cell_type": "code",
   "execution_count": 3,
   "id": "conventional-auckland",
   "metadata": {},
   "outputs": [],
   "source": [
    "data = pd.DataFrame(columns=['ID', 'event', 'p'])\n",
    "data['ID'] = np.arange(100)\n",
    "data['event'] = np.random.randint(0, high=2, size=data.shape[0]) # binary outcome, high excluded\n",
    "data['p'] = np.random.rand(data.shape[0]) # model output, probability values between 0 and 1"
   ]
  },
  {
   "cell_type": "code",
   "execution_count": 4,
   "id": "satisfactory-roads",
   "metadata": {},
   "outputs": [
    {
     "name": "stdout",
     "output_type": "stream",
     "text": [
      "data shape: (100, 3)\n",
      "events contained: \n",
      "1    56\n",
      "0    44\n",
      "Name: event, dtype: int64\n"
     ]
    },
    {
     "data": {
      "text/html": [
       "<div>\n",
       "<style scoped>\n",
       "    .dataframe tbody tr th:only-of-type {\n",
       "        vertical-align: middle;\n",
       "    }\n",
       "\n",
       "    .dataframe tbody tr th {\n",
       "        vertical-align: top;\n",
       "    }\n",
       "\n",
       "    .dataframe thead th {\n",
       "        text-align: right;\n",
       "    }\n",
       "</style>\n",
       "<table border=\"1\" class=\"dataframe\">\n",
       "  <thead>\n",
       "    <tr style=\"text-align: right;\">\n",
       "      <th></th>\n",
       "      <th>ID</th>\n",
       "      <th>event</th>\n",
       "      <th>p</th>\n",
       "    </tr>\n",
       "  </thead>\n",
       "  <tbody>\n",
       "    <tr>\n",
       "      <th>0</th>\n",
       "      <td>0</td>\n",
       "      <td>0</td>\n",
       "      <td>0.969585</td>\n",
       "    </tr>\n",
       "    <tr>\n",
       "      <th>1</th>\n",
       "      <td>1</td>\n",
       "      <td>1</td>\n",
       "      <td>0.775133</td>\n",
       "    </tr>\n",
       "    <tr>\n",
       "      <th>2</th>\n",
       "      <td>2</td>\n",
       "      <td>0</td>\n",
       "      <td>0.939499</td>\n",
       "    </tr>\n",
       "    <tr>\n",
       "      <th>3</th>\n",
       "      <td>3</td>\n",
       "      <td>0</td>\n",
       "      <td>0.894827</td>\n",
       "    </tr>\n",
       "    <tr>\n",
       "      <th>4</th>\n",
       "      <td>4</td>\n",
       "      <td>0</td>\n",
       "      <td>0.597900</td>\n",
       "    </tr>\n",
       "  </tbody>\n",
       "</table>\n",
       "</div>"
      ],
      "text/plain": [
       "   ID  event         p\n",
       "0   0      0  0.969585\n",
       "1   1      1  0.775133\n",
       "2   2      0  0.939499\n",
       "3   3      0  0.894827\n",
       "4   4      0  0.597900"
      ]
     },
     "execution_count": 4,
     "metadata": {},
     "output_type": "execute_result"
    }
   ],
   "source": [
    "print(f'data shape: {data.shape}')\n",
    "print(f'events contained: \\n{data.event.value_counts()}')\n",
    "data.head()"
   ]
  },
  {
   "cell_type": "code",
   "execution_count": 5,
   "id": "biblical-bernard",
   "metadata": {},
   "outputs": [],
   "source": [
    "data.to_csv('sample_data_st.csv', index=False)"
   ]
  },
  {
   "cell_type": "markdown",
   "id": "herbal-innocent",
   "metadata": {},
   "source": [
    "#### B.2) covid hospitalization risk prediciton ('COVA dataset')"
   ]
  },
  {
   "cell_type": "code",
   "execution_count": 6,
   "id": "likely-dubai",
   "metadata": {},
   "outputs": [],
   "source": [
    "data['ID'] = np.arange(100)\n",
    "data['event'] = np.random.randint(0, high=2, size=data.shape[0]) # binary outcome, high excluded\n",
    "data['p'] = np.random.rand(data.shape[0]) # model output, probability values between 0 and 1"
   ]
  },
  {
   "cell_type": "code",
   "execution_count": 7,
   "id": "blank-unknown",
   "metadata": {},
   "outputs": [],
   "source": [
    "# COVA datafile\n",
    "data_raw = pd.read_csv('COVA-FAKE.csv', sep=',')\n",
    "data = pd.DataFrame()\n",
    "data['ID'] = np.array(range(data_raw.shape[0]))\n",
    "event_categories = ['Prob-dead','Prob-ICU-MV','Prob-Hosp']\n",
    "data['p'] = (data_raw[event_categories[0]] + data_raw[event_categories[1]] + data_raw[event_categories[2]])/100\n",
    "data['event'] = 0.0 + (data_raw['actual']>0)"
   ]
  },
  {
   "cell_type": "code",
   "execution_count": 8,
   "id": "martial-february",
   "metadata": {},
   "outputs": [
    {
     "name": "stdout",
     "output_type": "stream",
     "text": [
      "data shape: (2000, 3)\n",
      "events contained: \n",
      "0.0    1263\n",
      "1.0     737\n",
      "Name: event, dtype: int64\n"
     ]
    },
    {
     "data": {
      "text/html": [
       "<div>\n",
       "<style scoped>\n",
       "    .dataframe tbody tr th:only-of-type {\n",
       "        vertical-align: middle;\n",
       "    }\n",
       "\n",
       "    .dataframe tbody tr th {\n",
       "        vertical-align: top;\n",
       "    }\n",
       "\n",
       "    .dataframe thead th {\n",
       "        text-align: right;\n",
       "    }\n",
       "</style>\n",
       "<table border=\"1\" class=\"dataframe\">\n",
       "  <thead>\n",
       "    <tr style=\"text-align: right;\">\n",
       "      <th></th>\n",
       "      <th>ID</th>\n",
       "      <th>p</th>\n",
       "      <th>event</th>\n",
       "    </tr>\n",
       "  </thead>\n",
       "  <tbody>\n",
       "    <tr>\n",
       "      <th>0</th>\n",
       "      <td>0</td>\n",
       "      <td>0.88430</td>\n",
       "      <td>0.0</td>\n",
       "    </tr>\n",
       "    <tr>\n",
       "      <th>1</th>\n",
       "      <td>1</td>\n",
       "      <td>0.90456</td>\n",
       "      <td>1.0</td>\n",
       "    </tr>\n",
       "    <tr>\n",
       "      <th>2</th>\n",
       "      <td>2</td>\n",
       "      <td>0.87122</td>\n",
       "      <td>0.0</td>\n",
       "    </tr>\n",
       "    <tr>\n",
       "      <th>3</th>\n",
       "      <td>3</td>\n",
       "      <td>0.96559</td>\n",
       "      <td>0.0</td>\n",
       "    </tr>\n",
       "    <tr>\n",
       "      <th>4</th>\n",
       "      <td>4</td>\n",
       "      <td>0.02583</td>\n",
       "      <td>0.0</td>\n",
       "    </tr>\n",
       "  </tbody>\n",
       "</table>\n",
       "</div>"
      ],
      "text/plain": [
       "   ID        p  event\n",
       "0   0  0.88430    0.0\n",
       "1   1  0.90456    1.0\n",
       "2   2  0.87122    0.0\n",
       "3   3  0.96559    0.0\n",
       "4   4  0.02583    0.0"
      ]
     },
     "execution_count": 8,
     "metadata": {},
     "output_type": "execute_result"
    }
   ],
   "source": [
    "print(f'data shape: {data.shape}')\n",
    "print(f'events contained: \\n{data.event.value_counts()}')\n",
    "data.head()"
   ]
  },
  {
   "cell_type": "code",
   "execution_count": 9,
   "id": "convenient-summary",
   "metadata": {},
   "outputs": [],
   "source": [
    "data.to_csv('sample_data_cova.csv', index=False)"
   ]
  },
  {
   "cell_type": "markdown",
   "id": "handy-complexity",
   "metadata": {},
   "source": [
    "#### B.3) Brain age - mortality risk prediction (survival analysis)"
   ]
  },
  {
   "cell_type": "markdown",
   "id": "vulnerable-blocking",
   "metadata": {},
   "source": [
    "# @ Daniel: I don't have those files, I think I am missing sth. here"
   ]
  },
  {
   "cell_type": "code",
   "execution_count": 10,
   "id": "seventh-capacity",
   "metadata": {},
   "outputs": [],
   "source": [
    "# c = pd.read_csv(big_file,sep=',')\n",
    "# uids =  uids = np.array(range(c.shape[0]))\n",
    "# c['ID'] = uids\n",
    "# peopleTF=True\n",
    "# survivalTF=True"
   ]
  },
  {
   "cell_type": "code",
   "execution_count": 11,
   "id": "excited-guinea",
   "metadata": {},
   "outputs": [],
   "source": [
    "data = pd.DataFrame(columns=['ID', 'T', 'C'])\n",
    "data['ID'] = np.arange(100)\n",
    "data['T'] = np.random.randint(0, high=21, size=data.shape[0]) # random integer values for time to event\n",
    "data['C'] = np.random.randint(0, 2, size=data.shape[0]) # random binary censorship information Yes/No\n",
    "data['z'] = np.random.normal(loc=0, scale=1, size=data.shape[0]) # random z-scored confounding variable.\n"
   ]
  },
  {
   "cell_type": "code",
   "execution_count": 12,
   "id": "absolute-personality",
   "metadata": {},
   "outputs": [
    {
     "name": "stdout",
     "output_type": "stream",
     "text": [
      "data shape: (100, 4)\n",
      "events contained: \n",
      "0    59\n",
      "1    41\n",
      "Name: C, dtype: int64\n"
     ]
    },
    {
     "data": {
      "text/html": [
       "<div>\n",
       "<style scoped>\n",
       "    .dataframe tbody tr th:only-of-type {\n",
       "        vertical-align: middle;\n",
       "    }\n",
       "\n",
       "    .dataframe tbody tr th {\n",
       "        vertical-align: top;\n",
       "    }\n",
       "\n",
       "    .dataframe thead th {\n",
       "        text-align: right;\n",
       "    }\n",
       "</style>\n",
       "<table border=\"1\" class=\"dataframe\">\n",
       "  <thead>\n",
       "    <tr style=\"text-align: right;\">\n",
       "      <th></th>\n",
       "      <th>ID</th>\n",
       "      <th>T</th>\n",
       "      <th>C</th>\n",
       "      <th>z</th>\n",
       "    </tr>\n",
       "  </thead>\n",
       "  <tbody>\n",
       "    <tr>\n",
       "      <th>0</th>\n",
       "      <td>0</td>\n",
       "      <td>12</td>\n",
       "      <td>0</td>\n",
       "      <td>0.055572</td>\n",
       "    </tr>\n",
       "    <tr>\n",
       "      <th>1</th>\n",
       "      <td>1</td>\n",
       "      <td>19</td>\n",
       "      <td>0</td>\n",
       "      <td>0.060233</td>\n",
       "    </tr>\n",
       "    <tr>\n",
       "      <th>2</th>\n",
       "      <td>2</td>\n",
       "      <td>14</td>\n",
       "      <td>1</td>\n",
       "      <td>-1.439462</td>\n",
       "    </tr>\n",
       "    <tr>\n",
       "      <th>3</th>\n",
       "      <td>3</td>\n",
       "      <td>2</td>\n",
       "      <td>1</td>\n",
       "      <td>-0.383488</td>\n",
       "    </tr>\n",
       "    <tr>\n",
       "      <th>4</th>\n",
       "      <td>4</td>\n",
       "      <td>7</td>\n",
       "      <td>0</td>\n",
       "      <td>0.886202</td>\n",
       "    </tr>\n",
       "  </tbody>\n",
       "</table>\n",
       "</div>"
      ],
      "text/plain": [
       "   ID   T  C         z\n",
       "0   0  12  0  0.055572\n",
       "1   1  19  0  0.060233\n",
       "2   2  14  1 -1.439462\n",
       "3   3   2  1 -0.383488\n",
       "4   4   7  0  0.886202"
      ]
     },
     "execution_count": 12,
     "metadata": {},
     "output_type": "execute_result"
    }
   ],
   "source": [
    "print(f'data shape: {data.shape}')\n",
    "print(f'events contained: \\n{data.C.value_counts()}')\n",
    "data.head()"
   ]
  },
  {
   "cell_type": "code",
   "execution_count": 13,
   "id": "confirmed-thomson",
   "metadata": {},
   "outputs": [],
   "source": [
    "data.to_csv('sample_data_bai_mortality.csv', index=False)"
   ]
  },
  {
   "cell_type": "code",
   "execution_count": null,
   "id": "protecting-antarctica",
   "metadata": {},
   "outputs": [],
   "source": []
  }
 ],
 "metadata": {
  "kernelspec": {
   "display_name": "analysis",
   "language": "python",
   "name": "analysis"
  },
  "language_info": {
   "codemirror_mode": {
    "name": "ipython",
    "version": 3
   },
   "file_extension": ".py",
   "mimetype": "text/x-python",
   "name": "python",
   "nbconvert_exporter": "python",
   "pygments_lexer": "ipython3",
   "version": "3.8.5"
  }
 },
 "nbformat": 4,
 "nbformat_minor": 5
}
